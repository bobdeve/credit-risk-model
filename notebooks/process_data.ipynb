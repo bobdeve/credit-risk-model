{
 "cells": [
  {
   "cell_type": "code",
   "execution_count": 5,
   "id": "f34c15d0",
   "metadata": {},
   "outputs": [
    {
     "name": "stdout",
     "output_type": "stream",
     "text": [
      "✅ Preprocessing complete and data saved to transformed_model_data.csv\n"
     ]
    }
   ],
   "source": [
    "import os\n",
    "import sys\n",
    "import pandas as pd\n",
    "from sklearn.pipeline import Pipeline\n",
    "from sklearn.compose import ColumnTransformer\n",
    "from sklearn.preprocessing import OneHotEncoder, StandardScaler\n",
    "from sklearn.impute import SimpleImputer\n",
    "from sklearn.linear_model import LogisticRegression\n",
    "from sklearn.model_selection import train_test_split\n",
    "\n",
    "# 👇 Load your dataset\n",
    "df = pd.read_csv('../data/processed/processed_transactions.csv', parse_dates=['TransactionStartTime'])\n",
    "\n",
    "# 🎯 Define your target and drop unused columns\n",
    "target = 'FraudResult'\n",
    "\n",
    "drop_cols = ['CustomerId', 'TransactionId', 'BatchId', 'ProductId', 'TransactionStartTime']\n",
    "X = df.drop(columns=[target] + drop_cols)\n",
    "y = df[target]\n",
    "\n",
    "# 🏷️ Define categorical and numerical columns\n",
    "categorical_cols = [\n",
    "    'CurrencyCode', 'CountryCode', 'ProviderId',\n",
    "    'ProductCategory', 'ChannelId', 'PricingStrategy', 'SubscriptionId'\n",
    "]\n",
    "\n",
    "numerical_cols = [\n",
    "    'Amount', 'Value', 'Hour', 'DayOfWeek', 'TransactionDay',\n",
    "    'TransactionMonth', 'TransactionYear', 'TotalAmount', 'AvgAmount',\n",
    "    'TransactionCount', 'StdAmount', 'Monetary', 'Frequency', 'Recency'\n",
    "]\n",
    "\n",
    "# 🔧 Categorical transformer: fill missing, then encode\n",
    "categorical_transformer = Pipeline(steps=[\n",
    "    ('imputer', SimpleImputer(strategy='most_frequent')),\n",
    "    ('encoder', OneHotEncoder(handle_unknown='ignore', sparse_output=False))\n",
    "])\n",
    "\n",
    "\n",
    "# 🔧 Numerical transformer: fill missing, then scale\n",
    "numerical_transformer = Pipeline(steps=[\n",
    "    ('imputer', SimpleImputer(strategy='mean')),\n",
    "    ('scaler', StandardScaler())\n",
    "])\n",
    "\n",
    "# 🧩 Combine transformers by column type\n",
    "preprocessor = ColumnTransformer(transformers=[\n",
    "    ('cat', categorical_transformer, categorical_cols),\n",
    "    ('num', numerical_transformer, numerical_cols)\n",
    "])\n",
    "\n",
    "# 🤖 Build a full pipeline with model (optional)\n",
    "model_pipeline = Pipeline(steps=[\n",
    "    ('preprocess', preprocessor),\n",
    "    ('classifier', LogisticRegression(max_iter=500))\n",
    "])\n",
    "\n",
    "# 📊 Train/test split\n",
    "X_train, X_test, y_train, y_test = train_test_split(X, y, test_size=0.2, random_state=42)\n",
    "\n",
    "# ✅ Fit model (training pipeline with preprocessing)\n",
    "model_pipeline.fit(X_train, y_train)\n",
    "\n",
    "# 💾 OPTIONAL: Save transformed features to CSV\n",
    "# Step 1: Transform the full dataset (X only)\n",
    "X_transformed = preprocessor.fit_transform(X)\n",
    "\n",
    "# Step 2: Get encoded feature names from OneHotEncoder\n",
    "encoded_cat_cols = preprocessor.named_transformers_['cat']['encoder'].get_feature_names_out(categorical_cols)\n",
    "all_feature_names = list(encoded_cat_cols) + numerical_cols\n",
    "\n",
    "# Step 3: Create DataFrame and save\n",
    "transformed_df = pd.DataFrame(X_transformed, columns=all_feature_names)\n",
    "transformed_df['FraudResult'] = y.values  # Add target column back\n",
    "\n",
    "# Step 4: Save to file\n",
    "os.makedirs('../data/processed', exist_ok=True)\n",
    "transformed_df.to_csv('../data/processed/transformed_model_data.csv', index=False)\n",
    "\n",
    "print(\"✅ Preprocessing complete and data saved to transformed_model_data.csv\")\n"
   ]
  },
  {
   "cell_type": "code",
   "execution_count": 3,
   "id": "9634e947",
   "metadata": {},
   "outputs": [
    {
     "name": "stdout",
     "output_type": "stream",
     "text": [
      "['AccountId', 'SubscriptionId', 'CurrencyCode', 'CountryCode', 'ProviderId', 'ProductCategory', 'ChannelId', 'Amount', 'Value', 'PricingStrategy', 'Hour', 'DayOfWeek']\n"
     ]
    }
   ],
   "source": [
    "print(X_train.columns.tolist())\n"
   ]
  }
 ],
 "metadata": {
  "kernelspec": {
   "display_name": ".venv",
   "language": "python",
   "name": "python3"
  },
  "language_info": {
   "codemirror_mode": {
    "name": "ipython",
    "version": 3
   },
   "file_extension": ".py",
   "mimetype": "text/x-python",
   "name": "python",
   "nbconvert_exporter": "python",
   "pygments_lexer": "ipython3",
   "version": "3.13.3"
  }
 },
 "nbformat": 4,
 "nbformat_minor": 5
}
