{
 "cells": [
  {
   "cell_type": "code",
   "execution_count": 3,
   "id": "d499333a",
   "metadata": {},
   "outputs": [
    {
     "name": "stdout",
     "output_type": "stream",
     "text": [
      "        CustomerId  is_high_risk\n",
      "0  CustomerId_4406             0\n",
      "2  CustomerId_4683             1\n",
      "3   CustomerId_988             0\n",
      "5  CustomerId_1432             1\n",
      "6  CustomerId_2858             0\n"
     ]
    }
   ],
   "source": [
    "import pandas as pd\n",
    "from datetime import datetime\n",
    "\n",
    "import sys\n",
    "import os\n",
    "\n",
    "# Add project root to sys.path to enable import from src\n",
    "sys.path.append(os.path.abspath('..'))  # Adjust '.' if your notebook runs in a subfolder\n",
    "\n",
    "from src.proxy_target import calculate_rfm, create_proxy_target, merge_proxy_target\n",
    "\n",
    "# Load your main processed dataset\n",
    "df = pd.read_csv('../data/processed/cleaned_data_with_rfm.csv', parse_dates=['TransactionStartTime'])\n",
    "\n",
    "# Define snapshot date as max date in dataset (or your chosen fixed date)\n",
    "snapshot_date = df['TransactionStartTime'].max()\n",
    "\n",
    "# Step 1: Calculate RFM metrics\n",
    "rfm = calculate_rfm(df, snapshot_date)\n",
    "\n",
    "# Step 2: Cluster and create proxy target\n",
    "rfm_with_target = create_proxy_target(rfm)\n",
    "\n",
    "# Step 3: Merge proxy target back into main dataframe\n",
    "df = merge_proxy_target(df, rfm_with_target)\n",
    "\n",
    "# Now df has the 'is_high_risk' binary label for modeling\n",
    "print(df[['CustomerId', 'is_high_risk']].drop_duplicates().head())\n"
   ]
  }
 ],
 "metadata": {
  "kernelspec": {
   "display_name": ".venv",
   "language": "python",
   "name": "python3"
  },
  "language_info": {
   "codemirror_mode": {
    "name": "ipython",
    "version": 3
   },
   "file_extension": ".py",
   "mimetype": "text/x-python",
   "name": "python",
   "nbconvert_exporter": "python",
   "pygments_lexer": "ipython3",
   "version": "3.13.3"
  }
 },
 "nbformat": 4,
 "nbformat_minor": 5
}
