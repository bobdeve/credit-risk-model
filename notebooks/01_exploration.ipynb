{
 "cells": [
  {
   "cell_type": "code",
   "execution_count": 5,
   "id": "e0696dc2",
   "metadata": {},
   "outputs": [
    {
     "name": "stdout",
     "output_type": "stream",
     "text": [
      "✅ Processed data saved.\n"
     ]
    }
   ],
   "source": [
    "import pandas as pd\n",
    "import sys\n",
    "import os\n",
    "\n",
    "# Add the source folder to the system path\n",
    "sys.path.append(os.path.abspath('../src'))\n",
    "\n",
    "# Now import the functions DIRECTLY from the module (no `src.` prefix!)\n",
    "from feature_engineering import (\n",
    "    extract_time_features,\n",
    "    generate_aggregate_features,\n",
    "    generate_rfm_features\n",
    ")\n",
    "\n",
    "# Load your raw data\n",
    "df = pd.read_csv('../data/processed/cleaned_data_with_rfm.csv', parse_dates=['TransactionStartTime'])\n",
    "\n",
    "# 1. Add time-based features\n",
    "df = extract_time_features(df)\n",
    "\n",
    "# 2. Generate aggregate & RFM features\n",
    "agg_features = generate_aggregate_features(df)\n",
    "rfm_features = generate_rfm_features(df)\n",
    "\n",
    "# 3. Merge with original dataframe on CustomerId\n",
    "df = df.merge(agg_features, on='CustomerId', how='left')\n",
    "df = df.merge(rfm_features, on='CustomerId', how='left')\n",
    "\n",
    "# Optional: Drop duplicates or unused columns\n",
    "# df.drop(columns=['Unnamed: 16', 'Unnamed: 17'], inplace=True)\n",
    "\n",
    "# Save to processed\n",
    "df.to_csv('../data/processed/processed_transactions.csv', index=False)\n",
    "print(\"✅ Processed data saved.\")\n"
   ]
  }
 ],
 "metadata": {
  "kernelspec": {
   "display_name": ".venv",
   "language": "python",
   "name": "python3"
  },
  "language_info": {
   "codemirror_mode": {
    "name": "ipython",
    "version": 3
   },
   "file_extension": ".py",
   "mimetype": "text/x-python",
   "name": "python",
   "nbconvert_exporter": "python",
   "pygments_lexer": "ipython3",
   "version": "3.13.3"
  }
 },
 "nbformat": 4,
 "nbformat_minor": 5
}
